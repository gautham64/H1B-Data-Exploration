{
 "cells": [
  {
   "cell_type": "code",
   "execution_count": 1,
   "metadata": {},
   "outputs": [
    {
     "data": {
      "text/html": [
       "<script type=\"text/javascript\">window.PlotlyConfig = {MathJaxConfig: 'local'};</script><script type=\"text/javascript\">if (window.MathJax) {MathJax.Hub.Config({SVG: {font: \"STIX-Web\"}});}</script><script>requirejs.config({paths: { 'plotly': ['https://cdn.plot.ly/plotly-latest.min']},});if(!window._Plotly) {require(['plotly'],function(plotly) {window._Plotly=plotly;});}</script>"
      ],
      "text/vnd.plotly.v1+html": [
       "<script type=\"text/javascript\">window.PlotlyConfig = {MathJaxConfig: 'local'};</script><script type=\"text/javascript\">if (window.MathJax) {MathJax.Hub.Config({SVG: {font: \"STIX-Web\"}});}</script><script>requirejs.config({paths: { 'plotly': ['https://cdn.plot.ly/plotly-latest.min']},});if(!window._Plotly) {require(['plotly'],function(plotly) {window._Plotly=plotly;});}</script>"
      ]
     },
     "metadata": {},
     "output_type": "display_data"
    }
   ],
   "source": [
    "import pandas as pd\n",
    "import warnings\n",
    "warnings.filterwarnings(\"ignore\")\n",
    "import numpy as np\n",
    "import matplotlib.pyplot as plt\n",
    "from plotly.offline import init_notebook_mode, iplot\n",
    "import plotly.graph_objs as go\n",
    "init_notebook_mode(connected=True)"
   ]
  },
  {
   "cell_type": "code",
   "execution_count": 2,
   "metadata": {},
   "outputs": [],
   "source": [
    "h1b_df=pd.read_csv('H-1B_Disclosure_Data_FY17.csv')"
   ]
  },
  {
   "cell_type": "markdown",
   "metadata": {},
   "source": [
    "### DATA ANALYSIS"
   ]
  },
  {
   "cell_type": "code",
   "execution_count": 3,
   "metadata": {},
   "outputs": [
    {
     "data": {
      "application/vnd.plotly.v1+json": {
       "config": {
        "linkText": "Export to plot.ly",
        "plotlyServerURL": "https://plot.ly",
        "showLink": false
       },
       "data": [
        {
         "marker": {
          "color": "rgb(102,255,102)",
          "line": {
           "color": "rgb(102,255,102)",
           "width": 1.5
          }
         },
         "name": "CERTIFIED",
         "type": "bar",
         "uid": "7a24e16e-1264-47e4-ae37-73f5732da02c",
         "x": [
          "INFOSYS LIMITED",
          "TATA CONSULTANCY SERVICES LIMITED",
          "CAPGEMINI AMERICA INC",
          "TECH MAHINDRA (AMERICAS),INC.",
          "IBM INDIA PRIVATE LIMITED",
          "DELOITTE CONSULTING LLP",
          "ACCENTURE LLP",
          "ERNST & YOUNG U.S. LLP",
          "WIPRO LIMITED",
          "MICROSOFT CORPORATION",
          "HCL AMERICA, INC.",
          "AMAZON CORPORATE LLC",
          "SYNTEL CONSULTING INC.",
          "GOOGLE INC.",
          "COGNIZANT TECHNOLOGY SOLUTIONS U.S. CORPORATION"
         ],
         "y": [
          20565,
          13429,
          8870,
          7515,
          7273,
          6976,
          6631,
          6001,
          4548,
          4444,
          4238,
          3974,
          3967,
          3435,
          2364
         ]
        },
        {
         "marker": {
          "color": "rgb(204,0,0)",
          "line": {
           "color": "rgb(204,0,0)",
           "width": 1.5
          }
         },
         "name": "DENIED",
         "type": "bar",
         "uid": "a98d97c2-ee01-4bab-843b-372d9e45a2b4",
         "x": [
          "DELOITTE CONSULTING LLP",
          "ERNST & YOUNG U.S. LLP",
          "GOOGLE INC.",
          "IBM INDIA PRIVATE LIMITED",
          "MICROSOFT CORPORATION",
          "CAPGEMINI AMERICA INC",
          "AMAZON CORPORATE LLC",
          "TATA CONSULTANCY SERVICES LIMITED",
          "WIPRO LIMITED",
          "TECH MAHINDRA (AMERICAS),INC.",
          "ACCENTURE LLP",
          "HCL AMERICA, INC.",
          "COGNIZANT TECHNOLOGY SOLUTIONS U.S. CORPORATION",
          "INFOSYS LIMITED",
          "SYNTEL CONSULTING INC."
         ],
         "y": [
          146,
          90,
          50,
          39,
          38,
          34,
          30,
          28,
          22,
          10,
          9,
          8,
          3,
          3,
          2
         ]
        }
       ],
       "layout": {
        "barmode": "stack",
        "title": {
         "text": "Top 15 Employers - Proportion of Certified and Denied Applications"
        }
       }
      },
      "text/html": [
       "<div id=\"da41c655-6cdc-4360-84d6-7812c4d94876\" style=\"height: 525px; width: 100%;\" class=\"plotly-graph-div\"></div><script type=\"text/javascript\">require([\"plotly\"], function(Plotly) { window.PLOTLYENV=window.PLOTLYENV || {};window.PLOTLYENV.BASE_URL=\"https://plot.ly\";\n",
       "if (document.getElementById(\"da41c655-6cdc-4360-84d6-7812c4d94876\")) {\n",
       "    Plotly.newPlot(\"da41c655-6cdc-4360-84d6-7812c4d94876\", [{\"marker\": {\"color\": \"rgb(102,255,102)\", \"line\": {\"color\": \"rgb(102,255,102)\", \"width\": 1.5}}, \"name\": \"CERTIFIED\", \"x\": [\"INFOSYS LIMITED\", \"TATA CONSULTANCY SERVICES LIMITED\", \"CAPGEMINI AMERICA INC\", \"TECH MAHINDRA (AMERICAS),INC.\", \"IBM INDIA PRIVATE LIMITED\", \"DELOITTE CONSULTING LLP\", \"ACCENTURE LLP\", \"ERNST & YOUNG U.S. LLP\", \"WIPRO LIMITED\", \"MICROSOFT CORPORATION\", \"HCL AMERICA, INC.\", \"AMAZON CORPORATE LLC\", \"SYNTEL CONSULTING INC.\", \"GOOGLE INC.\", \"COGNIZANT TECHNOLOGY SOLUTIONS U.S. CORPORATION\"], \"y\": [20565, 13429, 8870, 7515, 7273, 6976, 6631, 6001, 4548, 4444, 4238, 3974, 3967, 3435, 2364], \"type\": \"bar\", \"uid\": \"7a24e16e-1264-47e4-ae37-73f5732da02c\"}, {\"marker\": {\"color\": \"rgb(204,0,0)\", \"line\": {\"color\": \"rgb(204,0,0)\", \"width\": 1.5}}, \"name\": \"DENIED\", \"x\": [\"DELOITTE CONSULTING LLP\", \"ERNST & YOUNG U.S. LLP\", \"GOOGLE INC.\", \"IBM INDIA PRIVATE LIMITED\", \"MICROSOFT CORPORATION\", \"CAPGEMINI AMERICA INC\", \"AMAZON CORPORATE LLC\", \"TATA CONSULTANCY SERVICES LIMITED\", \"WIPRO LIMITED\", \"TECH MAHINDRA (AMERICAS),INC.\", \"ACCENTURE LLP\", \"HCL AMERICA, INC.\", \"COGNIZANT TECHNOLOGY SOLUTIONS U.S. CORPORATION\", \"INFOSYS LIMITED\", \"SYNTEL CONSULTING INC.\"], \"y\": [146, 90, 50, 39, 38, 34, 30, 28, 22, 10, 9, 8, 3, 3, 2], \"type\": \"bar\", \"uid\": \"a98d97c2-ee01-4bab-843b-372d9e45a2b4\"}], {\"barmode\": \"stack\", \"title\": {\"text\": \"Top 15 Employers - Proportion of Certified and Denied Applications\"}}, {\"showLink\": false, \"linkText\": \"Export to plot.ly\", \"plotlyServerURL\": \"https://plot.ly\"}); \n",
       "}\n",
       "});</script><script type=\"text/javascript\">window.addEventListener(\"resize\", function(){if (document.getElementById(\"da41c655-6cdc-4360-84d6-7812c4d94876\")) {window._Plotly.Plots.resize(document.getElementById(\"da41c655-6cdc-4360-84d6-7812c4d94876\"));};})</script>"
      ],
      "text/vnd.plotly.v1+html": [
       "<div id=\"da41c655-6cdc-4360-84d6-7812c4d94876\" style=\"height: 525px; width: 100%;\" class=\"plotly-graph-div\"></div><script type=\"text/javascript\">require([\"plotly\"], function(Plotly) { window.PLOTLYENV=window.PLOTLYENV || {};window.PLOTLYENV.BASE_URL=\"https://plot.ly\";\n",
       "if (document.getElementById(\"da41c655-6cdc-4360-84d6-7812c4d94876\")) {\n",
       "    Plotly.newPlot(\"da41c655-6cdc-4360-84d6-7812c4d94876\", [{\"marker\": {\"color\": \"rgb(102,255,102)\", \"line\": {\"color\": \"rgb(102,255,102)\", \"width\": 1.5}}, \"name\": \"CERTIFIED\", \"x\": [\"INFOSYS LIMITED\", \"TATA CONSULTANCY SERVICES LIMITED\", \"CAPGEMINI AMERICA INC\", \"TECH MAHINDRA (AMERICAS),INC.\", \"IBM INDIA PRIVATE LIMITED\", \"DELOITTE CONSULTING LLP\", \"ACCENTURE LLP\", \"ERNST & YOUNG U.S. LLP\", \"WIPRO LIMITED\", \"MICROSOFT CORPORATION\", \"HCL AMERICA, INC.\", \"AMAZON CORPORATE LLC\", \"SYNTEL CONSULTING INC.\", \"GOOGLE INC.\", \"COGNIZANT TECHNOLOGY SOLUTIONS U.S. CORPORATION\"], \"y\": [20565, 13429, 8870, 7515, 7273, 6976, 6631, 6001, 4548, 4444, 4238, 3974, 3967, 3435, 2364], \"type\": \"bar\", \"uid\": \"7a24e16e-1264-47e4-ae37-73f5732da02c\"}, {\"marker\": {\"color\": \"rgb(204,0,0)\", \"line\": {\"color\": \"rgb(204,0,0)\", \"width\": 1.5}}, \"name\": \"DENIED\", \"x\": [\"DELOITTE CONSULTING LLP\", \"ERNST & YOUNG U.S. LLP\", \"GOOGLE INC.\", \"IBM INDIA PRIVATE LIMITED\", \"MICROSOFT CORPORATION\", \"CAPGEMINI AMERICA INC\", \"AMAZON CORPORATE LLC\", \"TATA CONSULTANCY SERVICES LIMITED\", \"WIPRO LIMITED\", \"TECH MAHINDRA (AMERICAS),INC.\", \"ACCENTURE LLP\", \"HCL AMERICA, INC.\", \"COGNIZANT TECHNOLOGY SOLUTIONS U.S. CORPORATION\", \"INFOSYS LIMITED\", \"SYNTEL CONSULTING INC.\"], \"y\": [146, 90, 50, 39, 38, 34, 30, 28, 22, 10, 9, 8, 3, 3, 2], \"type\": \"bar\", \"uid\": \"a98d97c2-ee01-4bab-843b-372d9e45a2b4\"}], {\"barmode\": \"stack\", \"title\": {\"text\": \"Top 15 Employers - Proportion of Certified and Denied Applications\"}}, {\"showLink\": false, \"linkText\": \"Export to plot.ly\", \"plotlyServerURL\": \"https://plot.ly\"}); \n",
       "}\n",
       "});</script><script type=\"text/javascript\">window.addEventListener(\"resize\", function(){if (document.getElementById(\"da41c655-6cdc-4360-84d6-7812c4d94876\")) {window._Plotly.Plots.resize(document.getElementById(\"da41c655-6cdc-4360-84d6-7812c4d94876\"));};})</script>"
      ]
     },
     "metadata": {},
     "output_type": "display_data"
    }
   ],
   "source": [
    "h1b_df['value'] = 1\n",
    "\n",
    "top_employers = h1b_df.groupby('EMPLOYER_NAME',as_index=False).count()\n",
    "top_employers = top_employers.sort_values('value',ascending= False)[['EMPLOYER_NAME','value']][0:15]\n",
    "\n",
    "top_employers_job = h1b_df.groupby(['EMPLOYER_NAME','CASE_STATUS'],as_index=False).count()\n",
    "\n",
    "top_employers_job=top_employers_job[top_employers_job.EMPLOYER_NAME.isin(top_employers.EMPLOYER_NAME)]\n",
    "\n",
    "tab1 = go.Bar(x=top_employers_job[top_employers_job.CASE_STATUS == 'CERTIFIED'].sort_values('value',ascending= False)['EMPLOYER_NAME'].values,y=top_employers_job[top_employers_job.CASE_STATUS == 'CERTIFIED'].sort_values('value',ascending= False)['value'].values,name='CERTIFIED',marker=dict(\n",
    "        color='rgb(102,255,102)', line=dict(color='rgb(102,255,102)',width=1.5,)) )\n",
    "\n",
    "tab2 = go.Bar(x=top_employers_job[top_employers_job.CASE_STATUS == 'DENIED'].sort_values('value',ascending= False)['EMPLOYER_NAME'].values,y=top_employers_job[top_employers_job.CASE_STATUS == 'DENIED'].sort_values('value',ascending= False)['value'].values,name='DENIED',marker=dict(\n",
    "        color='rgb(204,0,0)', line=dict(color='rgb(204,0,0)',width=1.5,)) )\n",
    "data = [tab1,tab2]\n",
    "\n",
    "layout = go.Layout(barmode='stack',title=\"Top 15 Employers - Proportion of Certified and Denied Applications\")\n",
    "fig =go.Figure(data,layout)\n",
    "iplot(fig)"
   ]
  },
  {
   "cell_type": "code",
   "execution_count": 4,
   "metadata": {},
   "outputs": [
    {
     "data": {
      "application/vnd.plotly.v1+json": {
       "config": {
        "linkText": "Export to plot.ly",
        "plotlyServerURL": "https://plot.ly",
        "showLink": false
       },
       "data": [
        {
         "colorbar": {
          "title": {
           "text": "Number of applications"
          }
         },
         "colorscale": [
          [
           0,
           "rgb(255,153,204)"
          ],
          [
           0.2,
           "rgb(255,102,178)"
          ],
          [
           0.4,
           "rgb(255,51,153)"
          ],
          [
           0.6,
           "rgb(255,0,127)"
          ],
          [
           0.8,
           "rgb(204,0,102)"
          ],
          [
           1,
           "rgb(153,0,76)"
          ]
         ],
         "locationmode": "USA-states",
         "locations": [
          "CA",
          "TX",
          "NJ",
          "NY",
          "IL",
          "MI",
          "PA",
          "MA",
          "MD",
          "WA",
          "VA",
          "FL",
          "NC",
          "GA",
          "OH",
          "CT",
          "MO",
          "MN",
          "TN",
          "AZ",
          "CO",
          "WI",
          "IN",
          "KY",
          "DE",
          "AR",
          "UT",
          "DC",
          "IA",
          "KS",
          "NE",
          "OR",
          "SC",
          "LA",
          "AL",
          "RI",
          "NH",
          "OK",
          "NV",
          "NM",
          "ID",
          "PR",
          "MS",
          "ME",
          "VT",
          "WV",
          "HI",
          "MP",
          "GU",
          "ND",
          "SD",
          "MT",
          "WY",
          "AK",
          "VI",
          "FM",
          "AS"
         ],
         "marker": {
          "line": {
           "color": "rgb(192,192,192)",
           "width": 2
          }
         },
         "type": "choropleth",
         "uid": "2f22589a-dd89-4b43-bab0-56311694cc41",
         "z": [
          105701,
          87664,
          76061,
          44097,
          41296,
          27320,
          25564,
          23383,
          21394,
          20786,
          19374,
          19373,
          18628,
          16870,
          9459,
          5983,
          5309,
          4755,
          4628,
          4166,
          4057,
          3564,
          2905,
          2481,
          2431,
          2190,
          2116,
          2089,
          2056,
          1888,
          1744,
          1700,
          1528,
          1267,
          1182,
          1054,
          1034,
          981,
          975,
          634,
          616,
          588,
          515,
          466,
          425,
          387,
          354,
          342,
          338,
          316,
          227,
          123,
          107,
          82,
          57,
          1,
          1
         ]
        }
       ],
       "layout": {
        "geo": {
         "lakecolor": "rgb(255, 255, 255)",
         "projection": {
          "type": "albers usa"
         },
         "scope": "usa",
         "showlakes": true
        },
        "title": {
         "text": "US States - H1B Applications"
        }
       }
      },
      "text/html": [
       "<div id=\"016024f6-0aa5-45e6-8447-411c29d9f8a8\" style=\"height: 525px; width: 100%;\" class=\"plotly-graph-div\"></div><script type=\"text/javascript\">require([\"plotly\"], function(Plotly) { window.PLOTLYENV=window.PLOTLYENV || {};window.PLOTLYENV.BASE_URL=\"https://plot.ly\";\n",
       "if (document.getElementById(\"016024f6-0aa5-45e6-8447-411c29d9f8a8\")) {\n",
       "    Plotly.newPlot(\"016024f6-0aa5-45e6-8447-411c29d9f8a8\", [{\"colorbar\": {\"title\": {\"text\": \"Number of applications\"}}, \"colorscale\": [[0.0, \"rgb(255,153,204)\"], [0.2, \"rgb(255,102,178)\"], [0.4, \"rgb(255,51,153)\"], [0.6, \"rgb(255,0,127)\"], [0.8, \"rgb(204,0,102)\"], [1.0, \"rgb(153,0,76)\"]], \"locationmode\": \"USA-states\", \"locations\": [\"CA\", \"TX\", \"NJ\", \"NY\", \"IL\", \"MI\", \"PA\", \"MA\", \"MD\", \"WA\", \"VA\", \"FL\", \"NC\", \"GA\", \"OH\", \"CT\", \"MO\", \"MN\", \"TN\", \"AZ\", \"CO\", \"WI\", \"IN\", \"KY\", \"DE\", \"AR\", \"UT\", \"DC\", \"IA\", \"KS\", \"NE\", \"OR\", \"SC\", \"LA\", \"AL\", \"RI\", \"NH\", \"OK\", \"NV\", \"NM\", \"ID\", \"PR\", \"MS\", \"ME\", \"VT\", \"WV\", \"HI\", \"MP\", \"GU\", \"ND\", \"SD\", \"MT\", \"WY\", \"AK\", \"VI\", \"FM\", \"AS\"], \"marker\": {\"line\": {\"color\": \"rgb(192,192,192)\", \"width\": 2}}, \"z\": [105701, 87664, 76061, 44097, 41296, 27320, 25564, 23383, 21394, 20786, 19374, 19373, 18628, 16870, 9459, 5983, 5309, 4755, 4628, 4166, 4057, 3564, 2905, 2481, 2431, 2190, 2116, 2089, 2056, 1888, 1744, 1700, 1528, 1267, 1182, 1054, 1034, 981, 975, 634, 616, 588, 515, 466, 425, 387, 354, 342, 338, 316, 227, 123, 107, 82, 57, 1, 1], \"type\": \"choropleth\", \"uid\": \"8f519073-96bf-4614-9a6c-5d16af11bd58\"}], {\"geo\": {\"lakecolor\": \"rgb(255, 255, 255)\", \"projection\": {\"type\": \"albers usa\"}, \"scope\": \"usa\", \"showlakes\": true}, \"title\": {\"text\": \"US States - H1B Applications\"}}, {\"showLink\": false, \"linkText\": \"Export to plot.ly\", \"plotlyServerURL\": \"https://plot.ly\"}); \n",
       "}\n",
       "});</script><script type=\"text/javascript\">window.addEventListener(\"resize\", function(){if (document.getElementById(\"016024f6-0aa5-45e6-8447-411c29d9f8a8\")) {window._Plotly.Plots.resize(document.getElementById(\"016024f6-0aa5-45e6-8447-411c29d9f8a8\"));};})</script>"
      ],
      "text/vnd.plotly.v1+html": [
       "<div id=\"016024f6-0aa5-45e6-8447-411c29d9f8a8\" style=\"height: 525px; width: 100%;\" class=\"plotly-graph-div\"></div><script type=\"text/javascript\">require([\"plotly\"], function(Plotly) { window.PLOTLYENV=window.PLOTLYENV || {};window.PLOTLYENV.BASE_URL=\"https://plot.ly\";\n",
       "if (document.getElementById(\"016024f6-0aa5-45e6-8447-411c29d9f8a8\")) {\n",
       "    Plotly.newPlot(\"016024f6-0aa5-45e6-8447-411c29d9f8a8\", [{\"colorbar\": {\"title\": {\"text\": \"Number of applications\"}}, \"colorscale\": [[0.0, \"rgb(255,153,204)\"], [0.2, \"rgb(255,102,178)\"], [0.4, \"rgb(255,51,153)\"], [0.6, \"rgb(255,0,127)\"], [0.8, \"rgb(204,0,102)\"], [1.0, \"rgb(153,0,76)\"]], \"locationmode\": \"USA-states\", \"locations\": [\"CA\", \"TX\", \"NJ\", \"NY\", \"IL\", \"MI\", \"PA\", \"MA\", \"MD\", \"WA\", \"VA\", \"FL\", \"NC\", \"GA\", \"OH\", \"CT\", \"MO\", \"MN\", \"TN\", \"AZ\", \"CO\", \"WI\", \"IN\", \"KY\", \"DE\", \"AR\", \"UT\", \"DC\", \"IA\", \"KS\", \"NE\", \"OR\", \"SC\", \"LA\", \"AL\", \"RI\", \"NH\", \"OK\", \"NV\", \"NM\", \"ID\", \"PR\", \"MS\", \"ME\", \"VT\", \"WV\", \"HI\", \"MP\", \"GU\", \"ND\", \"SD\", \"MT\", \"WY\", \"AK\", \"VI\", \"FM\", \"AS\"], \"marker\": {\"line\": {\"color\": \"rgb(192,192,192)\", \"width\": 2}}, \"z\": [105701, 87664, 76061, 44097, 41296, 27320, 25564, 23383, 21394, 20786, 19374, 19373, 18628, 16870, 9459, 5983, 5309, 4755, 4628, 4166, 4057, 3564, 2905, 2481, 2431, 2190, 2116, 2089, 2056, 1888, 1744, 1700, 1528, 1267, 1182, 1054, 1034, 981, 975, 634, 616, 588, 515, 466, 425, 387, 354, 342, 338, 316, 227, 123, 107, 82, 57, 1, 1], \"type\": \"choropleth\", \"uid\": \"8f519073-96bf-4614-9a6c-5d16af11bd58\"}], {\"geo\": {\"lakecolor\": \"rgb(255, 255, 255)\", \"projection\": {\"type\": \"albers usa\"}, \"scope\": \"usa\", \"showlakes\": true}, \"title\": {\"text\": \"US States - H1B Applications\"}}, {\"showLink\": false, \"linkText\": \"Export to plot.ly\", \"plotlyServerURL\": \"https://plot.ly\"}); \n",
       "}\n",
       "});</script><script type=\"text/javascript\">window.addEventListener(\"resize\", function(){if (document.getElementById(\"016024f6-0aa5-45e6-8447-411c29d9f8a8\")) {window._Plotly.Plots.resize(document.getElementById(\"016024f6-0aa5-45e6-8447-411c29d9f8a8\"));};})</script>"
      ]
     },
     "metadata": {},
     "output_type": "display_data"
    }
   ],
   "source": [
    "states_category = h1b_df.groupby('EMPLOYER_STATE',as_index=False).count()[['EMPLOYER_STATE','value']].sort_values('value',ascending=False)\n",
    "\n",
    "scl = [[0.0, 'rgb(255,153,204)'],[0.2, 'rgb(255,102,178)'],[0.4, 'rgb(255,51,153)'],[0.6, 'rgb(255,0,127)'],[0.8, 'rgb(204,0,102)'],[1.0, 'rgb(153,0,76)']]\n",
    "\n",
    "data=[dict(type='choropleth',colorscale = scl, locations = states_category.EMPLOYER_STATE, z = states_category.value,\n",
    "    locationmode = 'USA-states',marker = dict(line = dict (color = 'rgb(192,192,192)',width = 2) ),colorbar = dict(\n",
    "    title = \"Number of applications\"))]\n",
    "\n",
    "layout= dict(title=\"US States - H1B Applications\",geo = dict(scope='usa',projection=dict( type='albers usa' ),showlakes = True,lakecolor = 'rgb(255, 255, 255)'),)\n",
    " \n",
    "fig = dict( data=data, layout=layout )\n",
    "iplot(fig)"
   ]
  },
  {
   "cell_type": "code",
   "execution_count": 5,
   "metadata": {},
   "outputs": [
    {
     "data": {
      "application/vnd.plotly.v1+json": {
       "config": {
        "linkText": "Export to plot.ly",
        "plotlyServerURL": "https://plot.ly",
        "showLink": false
       },
       "data": [
        {
         "marker": {
          "color": "rgb(158,202,225)",
          "line": {
           "color": "rgb(8,48,107)",
           "width": 1.5
          }
         },
         "name": "jobtitle",
         "type": "bar",
         "uid": "da803d3d-5eff-4eec-a054-3aab489e8bfe",
         "x": [
          "PROGRAMMER ANALYST",
          "SOFTWARE ENGINEER",
          "SOFTWARE DEVELOPER",
          "SYSTEMS ANALYST",
          "BUSINESS ANALYST",
          "COMPUTER PROGRAMMER",
          "SENIOR SOFTWARE ENGINEER",
          "COMPUTER SYSTEMS ANALYST",
          "DEVELOPER",
          "ASSISTANT PROFESSOR",
          "PROJECT MANAGER",
          "CONSULTANT",
          "DEVELOPER USER INTERFACE",
          "ASSOCIATE",
          "ANALYST"
         ],
         "y": [
          47151,
          27950,
          16107,
          10798,
          7410,
          7303,
          6983,
          6555,
          5835,
          4957,
          4262,
          3816,
          3717,
          3354,
          3155
         ]
        }
       ],
       "layout": {
        "title": {
         "text": "Top 15 Jobs - Visa Applications"
        },
        "yaxis": {
         "title": {
          "text": "Num of applications"
         }
        }
       }
      },
      "text/html": [
       "<div id=\"7b3e9ce7-ef89-468a-88cc-7be7e25a7835\" style=\"height: 525px; width: 100%;\" class=\"plotly-graph-div\"></div><script type=\"text/javascript\">require([\"plotly\"], function(Plotly) { window.PLOTLYENV=window.PLOTLYENV || {};window.PLOTLYENV.BASE_URL=\"https://plot.ly\";\n",
       "if (document.getElementById(\"7b3e9ce7-ef89-468a-88cc-7be7e25a7835\")) {\n",
       "    Plotly.newPlot(\"7b3e9ce7-ef89-468a-88cc-7be7e25a7835\", [{\"marker\": {\"color\": \"rgb(158,202,225)\", \"line\": {\"color\": \"rgb(8,48,107)\", \"width\": 1.5}}, \"name\": \"jobtitle\", \"x\": [\"PROGRAMMER ANALYST\", \"SOFTWARE ENGINEER\", \"SOFTWARE DEVELOPER\", \"SYSTEMS ANALYST\", \"BUSINESS ANALYST\", \"COMPUTER PROGRAMMER\", \"SENIOR SOFTWARE ENGINEER\", \"COMPUTER SYSTEMS ANALYST\", \"DEVELOPER\", \"ASSISTANT PROFESSOR\", \"PROJECT MANAGER\", \"CONSULTANT\", \"DEVELOPER USER INTERFACE\", \"ASSOCIATE\", \"ANALYST\"], \"y\": [47151, 27950, 16107, 10798, 7410, 7303, 6983, 6555, 5835, 4957, 4262, 3816, 3717, 3354, 3155], \"type\": \"bar\", \"uid\": \"da803d3d-5eff-4eec-a054-3aab489e8bfe\"}], {\"title\": {\"text\": \"Top 15 Jobs - Visa Applications\"}, \"yaxis\": {\"title\": {\"text\": \"Num of applications\"}}}, {\"showLink\": false, \"linkText\": \"Export to plot.ly\", \"plotlyServerURL\": \"https://plot.ly\"}); \n",
       "}\n",
       "});</script><script type=\"text/javascript\">window.addEventListener(\"resize\", function(){if (document.getElementById(\"7b3e9ce7-ef89-468a-88cc-7be7e25a7835\")) {window._Plotly.Plots.resize(document.getElementById(\"7b3e9ce7-ef89-468a-88cc-7be7e25a7835\"));};})</script>"
      ],
      "text/vnd.plotly.v1+html": [
       "<div id=\"7b3e9ce7-ef89-468a-88cc-7be7e25a7835\" style=\"height: 525px; width: 100%;\" class=\"plotly-graph-div\"></div><script type=\"text/javascript\">require([\"plotly\"], function(Plotly) { window.PLOTLYENV=window.PLOTLYENV || {};window.PLOTLYENV.BASE_URL=\"https://plot.ly\";\n",
       "if (document.getElementById(\"7b3e9ce7-ef89-468a-88cc-7be7e25a7835\")) {\n",
       "    Plotly.newPlot(\"7b3e9ce7-ef89-468a-88cc-7be7e25a7835\", [{\"marker\": {\"color\": \"rgb(158,202,225)\", \"line\": {\"color\": \"rgb(8,48,107)\", \"width\": 1.5}}, \"name\": \"jobtitle\", \"x\": [\"PROGRAMMER ANALYST\", \"SOFTWARE ENGINEER\", \"SOFTWARE DEVELOPER\", \"SYSTEMS ANALYST\", \"BUSINESS ANALYST\", \"COMPUTER PROGRAMMER\", \"SENIOR SOFTWARE ENGINEER\", \"COMPUTER SYSTEMS ANALYST\", \"DEVELOPER\", \"ASSISTANT PROFESSOR\", \"PROJECT MANAGER\", \"CONSULTANT\", \"DEVELOPER USER INTERFACE\", \"ASSOCIATE\", \"ANALYST\"], \"y\": [47151, 27950, 16107, 10798, 7410, 7303, 6983, 6555, 5835, 4957, 4262, 3816, 3717, 3354, 3155], \"type\": \"bar\", \"uid\": \"da803d3d-5eff-4eec-a054-3aab489e8bfe\"}], {\"title\": {\"text\": \"Top 15 Jobs - Visa Applications\"}, \"yaxis\": {\"title\": {\"text\": \"Num of applications\"}}}, {\"showLink\": false, \"linkText\": \"Export to plot.ly\", \"plotlyServerURL\": \"https://plot.ly\"}); \n",
       "}\n",
       "});</script><script type=\"text/javascript\">window.addEventListener(\"resize\", function(){if (document.getElementById(\"7b3e9ce7-ef89-468a-88cc-7be7e25a7835\")) {window._Plotly.Plots.resize(document.getElementById(\"7b3e9ce7-ef89-468a-88cc-7be7e25a7835\"));};})</script>"
      ]
     },
     "metadata": {},
     "output_type": "display_data"
    }
   ],
   "source": [
    "top_jobs = h1b_df.groupby('JOB_TITLE',as_index=False).count()[['JOB_TITLE','value']].sort_values('value',ascending=False)[0:15]\n",
    "tab1 = go.Bar(x=top_jobs.JOB_TITLE.values,y=top_jobs.value.values,name='jobtitle',marker=dict(color='rgb(158,202,225)', line=dict(color='rgb(8,48,107)',width=1.5,)) )\n",
    "layout = go.Layout(dict(title= \"Top 15 Jobs - Visa Applications\",yaxis=dict(title=\"Num of applications\")))\n",
    "fig =go.Figure([tab1],layout)\n",
    "iplot(fig)"
   ]
  },
  {
   "cell_type": "code",
   "execution_count": 6,
   "metadata": {},
   "outputs": [
    {
     "data": {
      "application/vnd.plotly.v1+json": {
       "config": {
        "linkText": "Export to plot.ly",
        "plotlyServerURL": "https://plot.ly",
        "showLink": false
       },
       "data": [
        {
         "marker": {
          "color": "green",
          "line": {
           "color": "green",
           "width": 1.5
          }
         },
         "name": "CERTIFIED",
         "type": "bar",
         "uid": "2c3aae7f-3a43-4e91-b8df-e9f1948b8cab",
         "x": [
          "PROGRAMMER ANALYST",
          "SOFTWARE ENGINEER",
          "SOFTWARE DEVELOPER",
          "SYSTEMS ANALYST",
          "BUSINESS ANALYST",
          "COMPUTER PROGRAMMER",
          "SENIOR SOFTWARE ENGINEER",
          "COMPUTER SYSTEMS ANALYST",
          "DEVELOPER",
          "ASSISTANT PROFESSOR",
          "PROJECT MANAGER",
          "DEVELOPER USER INTERFACE",
          "CONSULTANT",
          "ANALYST",
          "ASSOCIATE"
         ],
         "y": [
          40558,
          23601,
          13961,
          9530,
          6445,
          6217,
          6146,
          5831,
          5735,
          3860,
          3773,
          3693,
          3535,
          2748,
          2697
         ]
        },
        {
         "marker": {
          "color": "red",
          "line": {
           "color": "red",
           "width": 1.5
          }
         },
         "name": "DENIED",
         "type": "bar",
         "uid": "524421da-592e-41ee-9a3b-d1b0982a57d1",
         "x": [
          "PROGRAMMER ANALYST",
          "SOFTWARE ENGINEER",
          "SOFTWARE DEVELOPER",
          "COMPUTER PROGRAMMER",
          "COMPUTER SYSTEMS ANALYST",
          "SENIOR SOFTWARE ENGINEER",
          "BUSINESS ANALYST",
          "SYSTEMS ANALYST",
          "ASSISTANT PROFESSOR",
          "PROJECT MANAGER",
          "CONSULTANT",
          "ASSOCIATE",
          "ANALYST",
          "DEVELOPER",
          "DEVELOPER USER INTERFACE"
         ],
         "y": [
          290,
          254,
          170,
          115,
          108,
          66,
          63,
          63,
          56,
          44,
          35,
          28,
          27,
          21,
          9
         ]
        }
       ],
       "layout": {
        "barmode": "stack",
        "title": {
         "text": "Top 15 Jobs - Proportion of Certified and Denied Applications"
        }
       }
      },
      "text/html": [
       "<div id=\"9e5f7fbb-735c-4073-81a0-4c7b2ce04481\" style=\"height: 525px; width: 100%;\" class=\"plotly-graph-div\"></div><script type=\"text/javascript\">require([\"plotly\"], function(Plotly) { window.PLOTLYENV=window.PLOTLYENV || {};window.PLOTLYENV.BASE_URL=\"https://plot.ly\";\n",
       "if (document.getElementById(\"9e5f7fbb-735c-4073-81a0-4c7b2ce04481\")) {\n",
       "    Plotly.newPlot(\"9e5f7fbb-735c-4073-81a0-4c7b2ce04481\", [{\"marker\": {\"color\": \"green\", \"line\": {\"color\": \"green\", \"width\": 1.5}}, \"name\": \"CERTIFIED\", \"x\": [\"PROGRAMMER ANALYST\", \"SOFTWARE ENGINEER\", \"SOFTWARE DEVELOPER\", \"SYSTEMS ANALYST\", \"BUSINESS ANALYST\", \"COMPUTER PROGRAMMER\", \"SENIOR SOFTWARE ENGINEER\", \"COMPUTER SYSTEMS ANALYST\", \"DEVELOPER\", \"ASSISTANT PROFESSOR\", \"PROJECT MANAGER\", \"DEVELOPER USER INTERFACE\", \"CONSULTANT\", \"ANALYST\", \"ASSOCIATE\"], \"y\": [40558, 23601, 13961, 9530, 6445, 6217, 6146, 5831, 5735, 3860, 3773, 3693, 3535, 2748, 2697], \"type\": \"bar\", \"uid\": \"2c3aae7f-3a43-4e91-b8df-e9f1948b8cab\"}, {\"marker\": {\"color\": \"red\", \"line\": {\"color\": \"red\", \"width\": 1.5}}, \"name\": \"DENIED\", \"x\": [\"PROGRAMMER ANALYST\", \"SOFTWARE ENGINEER\", \"SOFTWARE DEVELOPER\", \"COMPUTER PROGRAMMER\", \"COMPUTER SYSTEMS ANALYST\", \"SENIOR SOFTWARE ENGINEER\", \"BUSINESS ANALYST\", \"SYSTEMS ANALYST\", \"ASSISTANT PROFESSOR\", \"PROJECT MANAGER\", \"CONSULTANT\", \"ASSOCIATE\", \"ANALYST\", \"DEVELOPER\", \"DEVELOPER USER INTERFACE\"], \"y\": [290, 254, 170, 115, 108, 66, 63, 63, 56, 44, 35, 28, 27, 21, 9], \"type\": \"bar\", \"uid\": \"524421da-592e-41ee-9a3b-d1b0982a57d1\"}], {\"barmode\": \"stack\", \"title\": {\"text\": \"Top 15 Jobs - Proportion of Certified and Denied Applications\"}}, {\"showLink\": false, \"linkText\": \"Export to plot.ly\", \"plotlyServerURL\": \"https://plot.ly\"}); \n",
       "}\n",
       "});</script><script type=\"text/javascript\">window.addEventListener(\"resize\", function(){if (document.getElementById(\"9e5f7fbb-735c-4073-81a0-4c7b2ce04481\")) {window._Plotly.Plots.resize(document.getElementById(\"9e5f7fbb-735c-4073-81a0-4c7b2ce04481\"));};})</script>"
      ],
      "text/vnd.plotly.v1+html": [
       "<div id=\"9e5f7fbb-735c-4073-81a0-4c7b2ce04481\" style=\"height: 525px; width: 100%;\" class=\"plotly-graph-div\"></div><script type=\"text/javascript\">require([\"plotly\"], function(Plotly) { window.PLOTLYENV=window.PLOTLYENV || {};window.PLOTLYENV.BASE_URL=\"https://plot.ly\";\n",
       "if (document.getElementById(\"9e5f7fbb-735c-4073-81a0-4c7b2ce04481\")) {\n",
       "    Plotly.newPlot(\"9e5f7fbb-735c-4073-81a0-4c7b2ce04481\", [{\"marker\": {\"color\": \"green\", \"line\": {\"color\": \"green\", \"width\": 1.5}}, \"name\": \"CERTIFIED\", \"x\": [\"PROGRAMMER ANALYST\", \"SOFTWARE ENGINEER\", \"SOFTWARE DEVELOPER\", \"SYSTEMS ANALYST\", \"BUSINESS ANALYST\", \"COMPUTER PROGRAMMER\", \"SENIOR SOFTWARE ENGINEER\", \"COMPUTER SYSTEMS ANALYST\", \"DEVELOPER\", \"ASSISTANT PROFESSOR\", \"PROJECT MANAGER\", \"DEVELOPER USER INTERFACE\", \"CONSULTANT\", \"ANALYST\", \"ASSOCIATE\"], \"y\": [40558, 23601, 13961, 9530, 6445, 6217, 6146, 5831, 5735, 3860, 3773, 3693, 3535, 2748, 2697], \"type\": \"bar\", \"uid\": \"2c3aae7f-3a43-4e91-b8df-e9f1948b8cab\"}, {\"marker\": {\"color\": \"red\", \"line\": {\"color\": \"red\", \"width\": 1.5}}, \"name\": \"DENIED\", \"x\": [\"PROGRAMMER ANALYST\", \"SOFTWARE ENGINEER\", \"SOFTWARE DEVELOPER\", \"COMPUTER PROGRAMMER\", \"COMPUTER SYSTEMS ANALYST\", \"SENIOR SOFTWARE ENGINEER\", \"BUSINESS ANALYST\", \"SYSTEMS ANALYST\", \"ASSISTANT PROFESSOR\", \"PROJECT MANAGER\", \"CONSULTANT\", \"ASSOCIATE\", \"ANALYST\", \"DEVELOPER\", \"DEVELOPER USER INTERFACE\"], \"y\": [290, 254, 170, 115, 108, 66, 63, 63, 56, 44, 35, 28, 27, 21, 9], \"type\": \"bar\", \"uid\": \"524421da-592e-41ee-9a3b-d1b0982a57d1\"}], {\"barmode\": \"stack\", \"title\": {\"text\": \"Top 15 Jobs - Proportion of Certified and Denied Applications\"}}, {\"showLink\": false, \"linkText\": \"Export to plot.ly\", \"plotlyServerURL\": \"https://plot.ly\"}); \n",
       "}\n",
       "});</script><script type=\"text/javascript\">window.addEventListener(\"resize\", function(){if (document.getElementById(\"9e5f7fbb-735c-4073-81a0-4c7b2ce04481\")) {window._Plotly.Plots.resize(document.getElementById(\"9e5f7fbb-735c-4073-81a0-4c7b2ce04481\"));};})</script>"
      ]
     },
     "metadata": {},
     "output_type": "display_data"
    }
   ],
   "source": [
    "top_jobs_visa = h1b_df.groupby(['JOB_TITLE','CASE_STATUS'],as_index=False).count()\n",
    "top_jobs_visa = top_jobs_visa[top_jobs_visa.JOB_TITLE.isin(top_jobs.JOB_TITLE)]\n",
    "\n",
    "tab1 = go.Bar(x=top_jobs_visa[top_jobs_visa.CASE_STATUS == 'CERTIFIED'].sort_values('value',ascending= False)['JOB_TITLE'].values,y=top_jobs_visa[top_jobs_visa.CASE_STATUS == 'CERTIFIED'].sort_values('value',ascending= False)['value'].values,name='CERTIFIED',marker=dict(\n",
    "        color='green', line=dict(color='green',width=1.5,)) )\n",
    "\n",
    "tab2 = go.Bar(x=top_jobs_visa[top_jobs_visa.CASE_STATUS == 'DENIED'].sort_values('value',ascending= False)['JOB_TITLE'].values,y=top_jobs_visa[top_jobs_visa.CASE_STATUS == 'DENIED'].sort_values('value',ascending= False)['value'].values,name='DENIED',marker=dict(\n",
    "        color='red', line=dict(color='red',width=1.5,)) )\n",
    "data = [tab1,tab2]\n",
    "\n",
    "layout = go.Layout(barmode='stack',title=\"Top 15 Jobs - Proportion of Certified and Denied Applications\")\n",
    "fig =go.Figure(data,layout)\n",
    "iplot(fig)"
   ]
  },
  {
   "cell_type": "code",
   "execution_count": 7,
   "metadata": {},
   "outputs": [],
   "source": [
    "h1b_df['CASE_SUBMITTED'] =pd.to_datetime(h1b_df['CASE_SUBMITTED'])\n",
    "h1b_df['YEAR'] = h1b_df.CASE_SUBMITTED.apply(lambda x: x.year)"
   ]
  },
  {
   "cell_type": "code",
   "execution_count": 8,
   "metadata": {},
   "outputs": [
    {
     "data": {
      "application/vnd.plotly.v1+json": {
       "config": {
        "linkText": "Export to plot.ly",
        "plotlyServerURL": "https://plot.ly",
        "showLink": false
       },
       "data": [
        {
         "marker": {
          "color": "rgba(255, 0, 0, .9)",
          "line": {
           "width": 2
          },
          "size": 10
         },
         "type": "scatter",
         "uid": "6b7a2a6a-cebf-4fa6-89d4-e7e209a7f6d9",
         "x": [
          2011,
          2012,
          2013,
          2014,
          2015,
          2016,
          2017
         ],
         "y": [
          60892,
          69468.2,
          66058.08050847458,
          67967.40009322338,
          70625.78440998874,
          75281.83431730377,
          72901.61653734531
         ]
        }
       ],
       "layout": {
        "title": {
         "text": "AVERAGE ANNUAL SALARY OVER YEARS"
        },
        "xaxis": {
         "title": {
          "text": "YEARS"
         }
        },
        "yaxis": {
         "title": {
          "text": "AVERAGE ANNUAL SALARY"
         }
        }
       }
      },
      "text/html": [
       "<div id=\"eabe16d1-d718-4f6a-9e92-5c562858adec\" style=\"height: 525px; width: 100%;\" class=\"plotly-graph-div\"></div><script type=\"text/javascript\">require([\"plotly\"], function(Plotly) { window.PLOTLYENV=window.PLOTLYENV || {};window.PLOTLYENV.BASE_URL=\"https://plot.ly\";\n",
       "if (document.getElementById(\"eabe16d1-d718-4f6a-9e92-5c562858adec\")) {\n",
       "    Plotly.newPlot(\"eabe16d1-d718-4f6a-9e92-5c562858adec\", [{\"marker\": {\"color\": \"rgba(255, 0, 0, .9)\", \"line\": {\"width\": 2}, \"size\": 10}, \"x\": [2011, 2012, 2013, 2014, 2015, 2016, 2017], \"y\": [60892.0, 69468.2, 66058.08050847458, 67967.40009322338, 70625.78440998874, 75281.83431730377, 72901.61653734531], \"type\": \"scatter\", \"uid\": \"6b7a2a6a-cebf-4fa6-89d4-e7e209a7f6d9\"}], {\"title\": {\"text\": \"AVERAGE ANNUAL SALARY OVER YEARS\"}, \"xaxis\": {\"title\": {\"text\": \"YEARS\"}}, \"yaxis\": {\"title\": {\"text\": \"AVERAGE ANNUAL SALARY\"}}}, {\"showLink\": false, \"linkText\": \"Export to plot.ly\", \"plotlyServerURL\": \"https://plot.ly\"}); \n",
       "}\n",
       "});</script><script type=\"text/javascript\">window.addEventListener(\"resize\", function(){if (document.getElementById(\"eabe16d1-d718-4f6a-9e92-5c562858adec\")) {window._Plotly.Plots.resize(document.getElementById(\"eabe16d1-d718-4f6a-9e92-5c562858adec\"));};})</script>"
      ],
      "text/vnd.plotly.v1+html": [
       "<div id=\"eabe16d1-d718-4f6a-9e92-5c562858adec\" style=\"height: 525px; width: 100%;\" class=\"plotly-graph-div\"></div><script type=\"text/javascript\">require([\"plotly\"], function(Plotly) { window.PLOTLYENV=window.PLOTLYENV || {};window.PLOTLYENV.BASE_URL=\"https://plot.ly\";\n",
       "if (document.getElementById(\"eabe16d1-d718-4f6a-9e92-5c562858adec\")) {\n",
       "    Plotly.newPlot(\"eabe16d1-d718-4f6a-9e92-5c562858adec\", [{\"marker\": {\"color\": \"rgba(255, 0, 0, .9)\", \"line\": {\"width\": 2}, \"size\": 10}, \"x\": [2011, 2012, 2013, 2014, 2015, 2016, 2017], \"y\": [60892.0, 69468.2, 66058.08050847458, 67967.40009322338, 70625.78440998874, 75281.83431730377, 72901.61653734531], \"type\": \"scatter\", \"uid\": \"6b7a2a6a-cebf-4fa6-89d4-e7e209a7f6d9\"}], {\"title\": {\"text\": \"AVERAGE ANNUAL SALARY OVER YEARS\"}, \"xaxis\": {\"title\": {\"text\": \"YEARS\"}}, \"yaxis\": {\"title\": {\"text\": \"AVERAGE ANNUAL SALARY\"}}}, {\"showLink\": false, \"linkText\": \"Export to plot.ly\", \"plotlyServerURL\": \"https://plot.ly\"}); \n",
       "}\n",
       "});</script><script type=\"text/javascript\">window.addEventListener(\"resize\", function(){if (document.getElementById(\"eabe16d1-d718-4f6a-9e92-5c562858adec\")) {window._Plotly.Plots.resize(document.getElementById(\"eabe16d1-d718-4f6a-9e92-5c562858adec\"));};})</script>"
      ]
     },
     "metadata": {},
     "output_type": "display_data"
    }
   ],
   "source": [
    "tab1 = go.Scatter(\n",
    "    x=h1b_df.groupby('YEAR').mean().index,y=h1b_df.groupby('YEAR').mean().PREVAILING_WAGE,marker = dict(size = 10, color = 'rgba(255, 0, 0, .9)',\n",
    "    line = dict(width = 2,)))\n",
    "\n",
    "layout = go.Layout(dict(title= \"AVERAGE ANNUAL SALARY OVER YEARS\",xaxis=dict(title=\"YEARS\"),yaxis=dict(title=\"AVERAGE ANNUAL SALARY\")))\n",
    "fig = go.Figure(data=[tab1],layout=layout)\n",
    "iplot(fig)"
   ]
  },
  {
   "cell_type": "markdown",
   "metadata": {},
   "source": [
    "### DATA WRANGLING"
   ]
  },
  {
   "cell_type": "code",
   "execution_count": 9,
   "metadata": {},
   "outputs": [
    {
     "data": {
      "text/plain": [
       "H-1B               610304\n",
       "E-3 Australian      12157\n",
       "H-1B1 Singapore      1254\n",
       "H-1B1 Chile           935\n",
       "Name: VISA_CLASS, dtype: int64"
      ]
     },
     "metadata": {},
     "output_type": "display_data"
    },
    {
     "data": {
      "text/plain": [
       "UNITED STATES OF AMERICA    528132\n",
       "CANADA                           7\n",
       "AUSTRALIA                        2\n",
       "CHINA                            1\n",
       "CAMBODIA                         1\n",
       "Name: EMPLOYER_COUNTRY, dtype: int64"
      ]
     },
     "metadata": {},
     "output_type": "display_data"
    },
    {
     "data": {
      "text/plain": [
       "Year         585301\n",
       "Hour          38779\n",
       "Month           327\n",
       "Week            140\n",
       "Bi-Weekly        57\n",
       "Name: PW_UNIT_OF_PAY, dtype: int64"
      ]
     },
     "metadata": {},
     "output_type": "display_data"
    },
    {
     "data": {
      "text/plain": [
       "CERTIFIED              545694\n",
       "CERTIFIED-WITHDRAWN     49704\n",
       "WITHDRAWN               20772\n",
       "DENIED                   8480\n",
       "Name: CASE_STATUS, dtype: int64"
      ]
     },
     "metadata": {},
     "output_type": "display_data"
    },
    {
     "data": {
      "text/plain": [
       "2017    505974\n",
       "2016    103018\n",
       "2015      9771\n",
       "2014      5578\n",
       "2013       295\n",
       "2012        12\n",
       "2011         2\n",
       "Name: YEAR, dtype: int64"
      ]
     },
     "metadata": {},
     "output_type": "display_data"
    }
   ],
   "source": [
    "display(h1b_df.VISA_CLASS.value_counts())\n",
    "display(h1b_df.EMPLOYER_COUNTRY.value_counts())\n",
    "display(h1b_df.PW_UNIT_OF_PAY.value_counts())\n",
    "display(h1b_df.CASE_STATUS.value_counts())\n",
    "display(h1b_df.YEAR.value_counts())"
   ]
  },
  {
   "cell_type": "markdown",
   "metadata": {},
   "source": [
    "#### Considering the large number of data points and outliers, we decided to limit our focus on the H-1B applications, with yearly pay, submitted in United States in the year 2016, and landed either in a CERTIFIED or a DENIED status."
   ]
  },
  {
   "cell_type": "code",
   "execution_count": 10,
   "metadata": {},
   "outputs": [],
   "source": [
    "h1b_df = h1b_df[h1b_df.VISA_CLASS == 'H-1B']\n",
    "h1b_df = h1b_df[h1b_df.EMPLOYER_COUNTRY == 'UNITED STATES OF AMERICA']\n",
    "h1b_df = h1b_df[h1b_df.PW_UNIT_OF_PAY == 'Year']\n",
    "h1b_df = h1b_df[(h1b_df.CASE_STATUS == 'CERTIFIED') | (h1b_df.CASE_STATUS == 'DENIED') ]\n",
    "h1b_df = h1b_df[h1b_df.YEAR == 2016]"
   ]
  },
  {
   "cell_type": "code",
   "execution_count": 11,
   "metadata": {},
   "outputs": [],
   "source": [
    "#Column added by calculating the days of employment\n",
    "\n",
    "h1b_df['EMPLOYMENT_START_DATE'] =pd.to_datetime(h1b_df['EMPLOYMENT_START_DATE'])\n",
    "h1b_df['EMPLOYMENT_END_DATE'] =pd.to_datetime(h1b_df['EMPLOYMENT_END_DATE'])\n",
    "h1b_df['DAYS_OF_EMPLOYMENT'] = (h1b_df['EMPLOYMENT_END_DATE'] - h1b_df['EMPLOYMENT_START_DATE']).dt.days"
   ]
  },
  {
   "cell_type": "markdown",
   "metadata": {},
   "source": [
    "#### Feature Selections"
   ]
  },
  {
   "cell_type": "code",
   "execution_count": 12,
   "metadata": {},
   "outputs": [],
   "source": [
    "to_select = ['CASE_STATUS', 'DAYS_OF_EMPLOYMENT','EMPLOYER_NAME','EMPLOYER_STATE','AGENT_REPRESENTING_EMPLOYER','JOB_TITLE','FULL_TIME_POSITION',\n",
    "            'PREVAILING_WAGE','H1B_DEPENDENT','WILLFUL_VIOLATOR','WORKSITE_STATE','NAICS_CODE']\n",
    "h1b_df = h1b_df[to_select]"
   ]
  },
  {
   "cell_type": "code",
   "execution_count": 13,
   "metadata": {},
   "outputs": [
    {
     "data": {
      "text/plain": [
       "DAYS_OF_EMPLOYMENT             3\n",
       "EMPLOYER_NAME                  3\n",
       "AGENT_REPRESENTING_EMPLOYER    1\n",
       "WORKSITE_STATE                 2\n",
       "dtype: int64"
      ]
     },
     "execution_count": 13,
     "metadata": {},
     "output_type": "execute_result"
    }
   ],
   "source": [
    "h1b_df.isnull().sum()[h1b_df.isnull().sum() > 0]"
   ]
  },
  {
   "cell_type": "markdown",
   "metadata": {},
   "source": [
    "#### Data Points with Null value are removed"
   ]
  },
  {
   "cell_type": "code",
   "execution_count": 14,
   "metadata": {},
   "outputs": [],
   "source": [
    "h1b_df = h1b_df[h1b_df['DAYS_OF_EMPLOYMENT'].notnull()]\n",
    "h1b_df = h1b_df[h1b_df['EMPLOYER_NAME'].notnull()]\n",
    "h1b_df = h1b_df[h1b_df['AGENT_REPRESENTING_EMPLOYER'].notnull()]\n",
    "h1b_df = h1b_df[h1b_df['WORKSITE_STATE'].notnull()]"
   ]
  },
  {
   "cell_type": "markdown",
   "metadata": {},
   "source": [
    "#### Outliers for the feature PREVAILING_WAGE are removed"
   ]
  },
  {
   "cell_type": "code",
   "execution_count": 15,
   "metadata": {},
   "outputs": [],
   "source": [
    "dum = h1b_df[(h1b_df.FULL_TIME_POSITION == 'Y')]\n",
    "ind1 = dum[(dum.PREVAILING_WAGE > 200000) | (dum.PREVAILING_WAGE < 20000)].index\n",
    "h1b_df = h1b_df.drop(ind1,axis=0)"
   ]
  },
  {
   "cell_type": "code",
   "execution_count": 16,
   "metadata": {},
   "outputs": [],
   "source": [
    "state_map = {\"AL\":\"South\",\"AR\":\"South\",\"AZ\":\"West\",\"CA\":\"West\",\"CO\":\"West\",\"CT\":\"Northeast\",\"DC\":\"South\",\"DE\":\"South\",\n",
    "\"FL\":\"South\",\"GA\":\"South\",\"HI\":\"West\",\"IA\":\"Midwest\",\"ID\":\"West\",\"IL\":\"Midwest\",\"IN\":\"Midwest\",\"KS\":\"Midwest\",\"KY\":\"South\",\n",
    "\"LA\":\"South\",\"MA\":\"Northeast\",\"MD\":\"South\",\"ME\":\"Northeast\",\"MI\":\"Midwest\",\"MN\":\"Midwest\",\"MO\":\"Midwest\",\"MS\":\"South\",\"MT\":\"West\",\n",
    "\"NC\":\"South\",\"ND\":\"Midwest\",\"NE\":\"Midwest\",\"NH\":\"Northeast\",\"NJ\":\"Northeast\",\"NM\":\"West\",\"NV\":\"West\",\"NY\":\"Northeast\",\"OH\":\"Midwest\",\n",
    "\"OK\":\"South\",\"OR\":\"West\",\"PA\":\"Northeast\",\"RI\":\"Northeast\",\"SC\":\"South\",\"SD\":\"Midwest\",\"TN\":\"South\",\"TX\":\"South\",\"UT\":\"West\",\"VA\":\"South\",\n",
    "\"VT\":\"Northeast\",\"WA\":\"West\",\"WI\":\"Midwest\",\"WV\":\"South\",\"WY\":\"West\" }\n",
    "\n",
    "ind_map = { \"11\":\"Agriculture, Forestry, Fishing and Hunting\",\"15\":\"Agriculture, Forestry, Fishing and Hunting\",\n",
    "           \"19\":\"Agriculture, Forestry, Fishing and Hunting\",\"21\":\"Mining, Quarrying, and Oil and Gas Extraction\",\n",
    "           \"22\":\"Utilities\",\"23\":\"Construction\",\"24\":\"Construction\",\"27\":\"Construction\",\"31\":\"Manufacturing\",\n",
    "           \"32\":\"Manufacturing\",\"33\":\"Manufacturing\",\"42\":\"Wholesale Trade\",\"44\":\"Retail Trade\",\"45\":\"Retail Trade\",\n",
    "           \"48\":\"Transportation and Warehousing\",\"49\":\"Transportation and Warehousing\",\"51\":\"Information\",\n",
    "           \"52\":\"Finance and Insurance\",\"53\":\"Real Estate and Rental and Leasing\",\"54\":\"Professional, Scientific, and Technical Services\",\n",
    "           \"55\":\"Management of Companies and Enterprises\",\"56\":\"Administrative and Support and Waste Management and Remediation Services\",\n",
    "           \"61\":\"Educational Services\",\"62\":\"Health Care and Social Assistance\",\"64\":\"Health Care and Social Assistance\",\n",
    "           \"71\":\"Arts, Entertainment, and Recreation\",\"72\":\"Accommodation and Food Services\",\"73\":\"Accommodation and Food Services\",\n",
    "           \"81\":\"Other Services (except Public Administration)\",\"92\":\"Public Administration\",\"99\":\"Public Administration\" }"
   ]
  },
  {
   "cell_type": "markdown",
   "metadata": {},
   "source": [
    "NAICS code is used for classification of business establishments by type of economic activity. The NAICS_CODE value in data points are replaced with actual values fetched from NAICS website. \n",
    "\n",
    "Because the EMPLOYER_STATE and WORKSITE_STATE had more of categorical variables, they were replaced with appropriate US regions."
   ]
  },
  {
   "cell_type": "code",
   "execution_count": 17,
   "metadata": {},
   "outputs": [],
   "source": [
    "h1b_df[\"EMPLOYER_STATE\"].replace(state_map, inplace=True)\n",
    "h1b_df[\"WORKSITE_STATE\"].replace(state_map, inplace=True)\n",
    "h1b_df['NAICS_CODE_UPTD'] = h1b_df['NAICS_CODE'].astype(str).str[0:2]\n",
    "h1b_df[\"NAICS_CODE_UPTD\"].replace(ind_map, inplace=True)\n",
    "\n",
    "h1b_df=h1b_df.rename(columns = {'NAICS_CODE_UPTD':'EMPLOYER_INDUSTRY'})\n",
    "h1b_df=h1b_df.rename(columns = {'EMPLOYER_STATE':'EMPLOYER_REGION'})\n",
    "h1b_df=h1b_df.rename(columns = {'WORKSITE_STATE':'WORKSITE_REGION'})"
   ]
  },
  {
   "cell_type": "markdown",
   "metadata": {},
   "source": [
    "#### Data Encoding on categorical features"
   ]
  },
  {
   "cell_type": "code",
   "execution_count": 18,
   "metadata": {},
   "outputs": [],
   "source": [
    "h1b_df['CASE_STATUS'] = h1b_df['CASE_STATUS'].map({'CERTIFIED': 1, 'DENIED': 0})\n",
    "X=h1b_df[h1b_df.columns.difference(['CASE_STATUS'])]\n",
    "y=h1b_df['CASE_STATUS']\n",
    "\n",
    "\n",
    "from sklearn import preprocessing\n",
    "le = preprocessing.LabelEncoder()\n",
    "for column_name in X.columns:\n",
    "    if X[column_name].dtype == object:\n",
    "        X[column_name] = le.fit_transform(X[column_name])\n",
    "    else:\n",
    "        pass"
   ]
  },
  {
   "cell_type": "markdown",
   "metadata": {},
   "source": [
    "### PREDICTIVE MODELLING"
   ]
  },
  {
   "cell_type": "markdown",
   "metadata": {},
   "source": [
    "#### Model Selection"
   ]
  },
  {
   "cell_type": "code",
   "execution_count": 19,
   "metadata": {},
   "outputs": [],
   "source": [
    "from sklearn.model_selection import train_test_split\n",
    "X_train, X_test, y_train, y_test = train_test_split(X, y, test_size = 0.2, random_state = 0)"
   ]
  },
  {
   "cell_type": "code",
   "execution_count": 20,
   "metadata": {},
   "outputs": [
    {
     "name": "stdout",
     "output_type": "stream",
     "text": [
      "0.9876009612175423\n",
      "{'bootstrap': True, 'max_features': 'auto', 'min_samples_split': 5, 'n_estimators': 200}\n"
     ]
    }
   ],
   "source": [
    "warnings.filterwarnings(\"ignore\", category=DeprecationWarning) \n",
    "\n",
    "from sklearn.model_selection import GridSearchCV\n",
    "from sklearn.ensemble import RandomForestClassifier\n",
    "\n",
    "param_grid = {\"n_estimators\": [100, 200], \"max_features\": ['auto', 'sqrt'], \"min_samples_split\": [2, 5], \"bootstrap\": [True, False]}\n",
    "\n",
    "model = RandomForestClassifier(random_state=0)\n",
    "grid = GridSearchCV(estimator=model, param_grid=param_grid)\n",
    "grid.fit(X_train, y_train)\n",
    "\n",
    "print(grid.best_score_)\n",
    "print(grid.best_params_)"
   ]
  },
  {
   "cell_type": "markdown",
   "metadata": {},
   "source": [
    "#### Model Evaluation"
   ]
  },
  {
   "cell_type": "code",
   "execution_count": 21,
   "metadata": {},
   "outputs": [],
   "source": [
    "train_z = grid.predict(X_train)\n",
    "train_z_prob = grid.predict_proba(X_train)[:,1]\n",
    "\n",
    "test_z = grid.predict(X_test)\n",
    "test_z_prob = grid.predict_proba(X_test)[:,1]"
   ]
  },
  {
   "cell_type": "code",
   "execution_count": 23,
   "metadata": {},
   "outputs": [
    {
     "name": "stdout",
     "output_type": "stream",
     "text": [
      "model accuracy on train set: 0.989636873372939\n",
      "model ROC AUC: 0.9980256738902922\n",
      "model accuracy on test set: 0.9845804685935519\n",
      "model ROC AUC: 0.6833123353043402\n"
     ]
    }
   ],
   "source": [
    "from sklearn.metrics import accuracy_score, roc_auc_score\n",
    "\n",
    "print(\"model accuracy on train set: {}\".format(accuracy_score(y_train, train_z)))\n",
    "print(\"model ROC AUC: {}\".format(roc_auc_score(y_train, train_z_prob)))\n",
    "\n",
    "print(\"model accuracy on test set: {}\".format(accuracy_score(y_test, test_z)))\n",
    "print(\"model ROC AUC: {}\".format(roc_auc_score(y_test, test_z_prob)))"
   ]
  },
  {
   "cell_type": "code",
   "execution_count": null,
   "metadata": {},
   "outputs": [],
   "source": []
  }
 ],
 "metadata": {
  "kernelspec": {
   "display_name": "Python 3",
   "language": "python",
   "name": "python3"
  },
  "language_info": {
   "codemirror_mode": {
    "name": "ipython",
    "version": 3
   },
   "file_extension": ".py",
   "mimetype": "text/x-python",
   "name": "python",
   "nbconvert_exporter": "python",
   "pygments_lexer": "ipython3",
   "version": "3.7.0"
  }
 },
 "nbformat": 4,
 "nbformat_minor": 2
}
